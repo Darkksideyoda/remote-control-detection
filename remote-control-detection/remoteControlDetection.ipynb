{
 "cells": [
  {
   "cell_type": "code",
   "execution_count": 48,
   "metadata": {},
   "outputs": [],
   "source": [
    "import glob\n",
    "import os\n",
    "import numpy as np\n",
    "from keras.models import Sequential\n",
    "from keras.layers import Dense,Dropout,Flatten\n",
    "from keras.layers import Conv2D, MaxPooling2D\n",
    "from PIL import Image\n",
    "from sklearn.preprocessing import LabelEncoder\n",
    "from sklearn.preprocessing import OneHotEncoder\n",
    "import seaborn as sns\n",
    "from sklearn.model_selection import train_test_split\n",
    "import warnings"
   ]
  },
  {
   "cell_type": "code",
   "execution_count": 71,
   "metadata": {},
   "outputs": [
    {
     "name": "stdout",
     "output_type": "stream",
     "text": [
      "remote\n"
     ]
    }
   ],
   "source": [
    "\n",
    "warnings.filterwarnings(\"ignore\")\n",
    "imgs = glob.glob(\"data/collectiveData/*.jpg\")\n",
    "\n",
    "width = 150\n",
    "height = 150\n",
    "\n",
    "X = []\n",
    "Y = []\n",
    "\n",
    "for img in imgs:\n",
    "    filename = os.path.basename(img)\n",
    "    label = filename.split(\"_\")[0]\n",
    "    im = np.array(Image.open(img).convert(\"L\").resize((width,height)))       \n",
    "    im = im/255\n",
    "    X.append(im)\n",
    "    Y.append(label)\n",
    "    \n",
    " \n",
    "print(label)\n",
    "\n"
   ]
  },
  {
   "cell_type": "code",
   "execution_count": 72,
   "metadata": {},
   "outputs": [],
   "source": [
    "X = np.array(X)\n",
    "X = X.reshape(X.shape[0],width,height,1)"
   ]
  },
  {
   "cell_type": "code",
   "execution_count": 73,
   "metadata": {},
   "outputs": [],
   "source": [
    "def onehot_labels(values):\n",
    "    label_encoder = LabelEncoder()\n",
    "    integer_encoded = label_encoder.fit_transform(values)\n",
    "    onehot_encoder = OneHotEncoder(sparse=False)\n",
    "    integer_encoded = integer_encoded.reshape(len(integer_encoded),1)\n",
    "    onehot_encoded = onehot_encoder.fit_transform(integer_encoded)\n",
    "    return onehot_encoded\n",
    "Y = onehot_labels(Y)\n",
    "\n",
    "x_train,x_test,y_train,y_test = train_test_split(X,Y,test_size=0.40,random_state=2)"
   ]
  },
  {
   "cell_type": "code",
   "execution_count": null,
   "metadata": {},
   "outputs": [],
   "source": [
    "model = Sequential()\n",
    "model.add(Conv2D(32,kernel_size=(3,3),activation=\"relu\",input_shape =(width,height,1)))\n",
    "model.add(Conv2D(64,kernel_size=(3,3),activation=\"relu\"))\n",
    "model.add(MaxPooling2D(pool_size=(2,2)))\n",
    "model.add(Dropout(0.25))\n",
    "model.add(Flatten())\n",
    "model.add(Dense(128,activation=\"relu\"))\n",
    "model.add(Dropout(0.4))\n",
    "model.add(Dense(2,activation=\"sigmoid\"))\n",
    "\n",
    "\n",
    "\n",
    "model.compile(loss=\"categorical_crossentropy\",optimizer = \"Adam\",metrics=[\"accuracy\"])\n",
    "model.fit(x_train,y_train,batch_size = 3)\n"
   ]
  },
  {
   "cell_type": "code",
   "execution_count": 90,
   "metadata": {},
   "outputs": [
    {
     "name": "stdout",
     "output_type": "stream",
     "text": [
      "28/28 [==============================] - 7s 229ms/step - loss: 0.6567 - accuracy: 0.7458\n",
      "Accuracy Egitim Skor:% 74.57627058029175\n"
     ]
    }
   ],
   "source": [
    "\n",
    "score_train = model.evaluate(x_train,y_train)\n",
    "print(\"Accuracy Egitim Skor:%\",score_train[1]*100)"
   ]
  },
  {
   "cell_type": "code",
   "execution_count": 91,
   "metadata": {},
   "outputs": [
    {
     "name": "stdout",
     "output_type": "stream",
     "text": [
      "19/19 [==============================] - 5s 236ms/step - loss: 0.6537 - accuracy: 0.7695\n",
      "Accuracy Test Skor:% 76.94915533065796\n"
     ]
    }
   ],
   "source": [
    "score_test = model.evaluate(x_test,y_test)\n",
    "print(\"Accuracy Test Skor:%\",score_test[1]*100)"
   ]
  },
  {
   "cell_type": "code",
   "execution_count": 92,
   "metadata": {},
   "outputs": [],
   "source": [
    "open(\"mmodel_weights.json\",\"w\").write(model.to_json())\n",
    "model.save_weights(\"remoteControl.h5\")"
   ]
  },
  {
   "cell_type": "code",
   "execution_count": null,
   "metadata": {},
   "outputs": [],
   "source": [
    "# from tensorflow.keras.preprocessing import image\n",
    "# import matplotlib.pyplot as plt\n",
    "\n",
    "# img = \"data/myImageData/car1.jpg\"\n",
    "# testImg = image.load_img(img,target_size = (200,200))\n",
    "# plt.imshow(testImg)\n",
    "\n",
    "# X = image.img_to_array(testImg)\n",
    "# X = np.expand_dims(X,axis = 0)\n",
    "# resultImage = np.vstack([X])\n",
    "# result = model.predict(resultImage)\n",
    "# print(result)\n"
   ]
  },
  {
   "cell_type": "code",
   "execution_count": null,
   "metadata": {},
   "outputs": [],
   "source": [
    "# img = Image.open(\"data/myImageData/car1.jpg\")\n",
    "# # img.show() \n",
    "# im = Image.frombytes(\"RGB\",img.size,img)\n",
    "# im2 = np.array(im.convert(\"L\").resize((width,height)))   \n",
    "# im2 = im2/255\n",
    "# X = np.array([im2])\n",
    "# X = X.reshape(X.shape[0],width,height,1)\n",
    "# r = model.predict(X)\n",
    "# result = np.argmax(r)\n",
    "# print(result)"
   ]
  },
  {
   "cell_type": "code",
   "execution_count": null,
   "metadata": {},
   "outputs": [],
   "source": []
  }
 ],
 "metadata": {
  "kernelspec": {
   "display_name": "Python 3.8.8 ('base')",
   "language": "python",
   "name": "python3"
  },
  "language_info": {
   "codemirror_mode": {
    "name": "ipython",
    "version": 3
   },
   "file_extension": ".py",
   "mimetype": "text/x-python",
   "name": "python",
   "nbconvert_exporter": "python",
   "pygments_lexer": "ipython3",
   "version": "3.8.8"
  },
  "orig_nbformat": 4,
  "vscode": {
   "interpreter": {
    "hash": "7017894ec8d4c30e1b9bb1fc61a9d921262affdf58d3791a1316ee1ca57c7c88"
   }
  }
 },
 "nbformat": 4,
 "nbformat_minor": 2
}
