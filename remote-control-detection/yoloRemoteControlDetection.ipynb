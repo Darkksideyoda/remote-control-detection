{
 "cells": [
  {
   "cell_type": "code",
   "execution_count": 96,
   "metadata": {},
   "outputs": [],
   "source": [
    "from imageai.Detection import ObjectDetection\n",
    "import PIL.Image\n"
   ]
  },
  {
   "cell_type": "code",
   "execution_count": 117,
   "metadata": {},
   "outputs": [],
   "source": [
    "imgSrc = \"data/myImageData/img5.jpg\"\n"
   ]
  },
  {
   "cell_type": "code",
   "execution_count": 118,
   "metadata": {},
   "outputs": [],
   "source": [
    "obj_detect  = ObjectDetection()\n",
    "obj_detect.setModelTypeAsYOLOv3()\n"
   ]
  },
  {
   "cell_type": "code",
   "execution_count": 119,
   "metadata": {},
   "outputs": [],
   "source": [
    "obj_detect.setModelPath(\"yolo.h5\")\n",
    "obj_detect.loadModel()"
   ]
  },
  {
   "cell_type": "code",
   "execution_count": 122,
   "metadata": {},
   "outputs": [],
   "source": [
    "# obj_detect.CustomObjects(remote=True)\n"
   ]
  },
  {
   "cell_type": "code",
   "execution_count": 127,
   "metadata": {},
   "outputs": [],
   "source": [
    "detected_obj = obj_detect.detectObjectsFromImage(\n",
    "    input_image=imgSrc,\n",
    "    output_image_path=\"test_image_output.jpg\",\n",
    "    minimum_percentage_probability=40\n",
    ")"
   ]
  },
  {
   "cell_type": "code",
   "execution_count": 128,
   "metadata": {},
   "outputs": [
    {
     "name": "stdout",
     "output_type": "stream",
     "text": [
      "Remote Control Detected !\n",
      "\n",
      "46.75053358078003\n",
      "[188, 422, 456, 855]\n"
     ]
    }
   ],
   "source": [
    "for obj in detected_obj:\n",
    "    if obj[\"name\"] == \"remote\":\n",
    "        print(\"Remote Control Detected !\\n\")\n",
    "        print(obj[\"percentage_probability\"])\n",
    "        print(obj[\"box_points\"])\n",
    "        # outputImgOpen =  PIL.Image.open(imgSrc)\n",
    "        # croppedImg = outputImgOpen.crop((obj[\"box_points\"]))\n",
    "        # croppedImg.save(\"test_image_output.jpg\")    \n",
    "    else:\n",
    "        print(\"We Can't Find Any Remote Try Again !\")"
   ]
  },
  {
   "cell_type": "code",
   "execution_count": 125,
   "metadata": {},
   "outputs": [],
   "source": [
    "im = PIL.Image.open(\"test_image_output.jpg\")\n",
    "im.show()"
   ]
  },
  {
   "cell_type": "code",
   "execution_count": null,
   "metadata": {},
   "outputs": [],
   "source": []
  }
 ],
 "metadata": {
  "kernelspec": {
   "display_name": "Python 3.7.6 ('image_env')",
   "language": "python",
   "name": "python3"
  },
  "language_info": {
   "codemirror_mode": {
    "name": "ipython",
    "version": 3
   },
   "file_extension": ".py",
   "mimetype": "text/x-python",
   "name": "python",
   "nbconvert_exporter": "python",
   "pygments_lexer": "ipython3",
   "version": "3.7.6"
  },
  "orig_nbformat": 4,
  "vscode": {
   "interpreter": {
    "hash": "1f078ac30edd9b9437feaa211f9834b2d1c2d01bc28cb629d19b64397dc85249"
   }
  }
 },
 "nbformat": 4,
 "nbformat_minor": 2
}
