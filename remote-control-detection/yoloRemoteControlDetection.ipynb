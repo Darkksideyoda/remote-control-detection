{
 "cells": [
  {
   "cell_type": "code",
   "execution_count": 29,
   "metadata": {},
   "outputs": [],
   "source": [
    "from imageai.Detection import ObjectDetection\n",
    "import PIL.Image\n",
    "from tkinter import *\n",
    "from tkinter import messagebox\n",
    "\n"
   ]
  },
  {
   "cell_type": "code",
   "execution_count": 30,
   "metadata": {},
   "outputs": [
    {
     "data": {
      "text/plain": [
       "''"
      ]
     },
     "execution_count": 30,
     "metadata": {},
     "output_type": "execute_result"
    }
   ],
   "source": [
    "top = Tk()\n",
    "top.geometry(\"100x100\")"
   ]
  },
  {
   "cell_type": "code",
   "execution_count": 31,
   "metadata": {},
   "outputs": [],
   "source": [
    "def showMessage(isRemote):\n",
    "   messagebox.showinfo(\"Remote Info\",isRemote)"
   ]
  },
  {
   "cell_type": "code",
   "execution_count": 32,
   "metadata": {},
   "outputs": [],
   "source": [
    "obj_detect  = ObjectDetection()\n",
    "obj_detect.setModelTypeAsYOLOv3()\n"
   ]
  },
  {
   "cell_type": "code",
   "execution_count": 33,
   "metadata": {},
   "outputs": [],
   "source": [
    "obj_detect.setModelPath(\"yolo.h5\")\n",
    "obj_detect.loadModel()"
   ]
  },
  {
   "cell_type": "code",
   "execution_count": 34,
   "metadata": {},
   "outputs": [
    {
     "data": {
      "text/plain": [
       "{'person': 'invalid',\n",
       " 'bicycle': 'invalid',\n",
       " 'car': 'invalid',\n",
       " 'motorcycle': 'invalid',\n",
       " 'airplane': 'invalid',\n",
       " 'bus': 'invalid',\n",
       " 'train': 'invalid',\n",
       " 'truck': 'invalid',\n",
       " 'boat': 'invalid',\n",
       " 'traffic light': 'invalid',\n",
       " 'fire hydrant': 'invalid',\n",
       " 'stop sign': 'invalid',\n",
       " 'parking meter': 'invalid',\n",
       " 'bench': 'invalid',\n",
       " 'bird': 'invalid',\n",
       " 'cat': 'invalid',\n",
       " 'dog': 'invalid',\n",
       " 'horse': 'invalid',\n",
       " 'sheep': 'invalid',\n",
       " 'cow': 'invalid',\n",
       " 'elephant': 'invalid',\n",
       " 'bear': 'invalid',\n",
       " 'zebra': 'invalid',\n",
       " 'giraffe': 'invalid',\n",
       " 'backpack': 'invalid',\n",
       " 'umbrella': 'invalid',\n",
       " 'handbag': 'invalid',\n",
       " 'tie': 'invalid',\n",
       " 'suitcase': 'invalid',\n",
       " 'frisbee': 'invalid',\n",
       " 'skis': 'invalid',\n",
       " 'snowboard': 'invalid',\n",
       " 'sports ball': 'invalid',\n",
       " 'kite': 'invalid',\n",
       " 'baseball bat': 'invalid',\n",
       " 'baseball glove': 'invalid',\n",
       " 'skateboard': 'invalid',\n",
       " 'surfboard': 'invalid',\n",
       " 'tennis racket': 'invalid',\n",
       " 'bottle': 'invalid',\n",
       " 'wine glass': 'invalid',\n",
       " 'cup': 'invalid',\n",
       " 'fork': 'invalid',\n",
       " 'knife': 'invalid',\n",
       " 'spoon': 'invalid',\n",
       " 'bowl': 'invalid',\n",
       " 'banana': 'invalid',\n",
       " 'apple': 'invalid',\n",
       " 'sandwich': 'invalid',\n",
       " 'orange': 'invalid',\n",
       " 'broccoli': 'invalid',\n",
       " 'carrot': 'invalid',\n",
       " 'hot dog': 'invalid',\n",
       " 'pizza': 'invalid',\n",
       " 'donut': 'invalid',\n",
       " 'cake': 'invalid',\n",
       " 'chair': 'invalid',\n",
       " 'couch': 'invalid',\n",
       " 'potted plant': 'invalid',\n",
       " 'bed': 'invalid',\n",
       " 'dining table': 'invalid',\n",
       " 'toilet': 'invalid',\n",
       " 'tv': 'invalid',\n",
       " 'laptop': 'invalid',\n",
       " 'mouse': 'invalid',\n",
       " 'remote': 'valid',\n",
       " 'keyboard': 'invalid',\n",
       " 'cell phone': 'invalid',\n",
       " 'microwave': 'invalid',\n",
       " 'oven': 'invalid',\n",
       " 'toaster': 'invalid',\n",
       " 'sink': 'invalid',\n",
       " 'refrigerator': 'invalid',\n",
       " 'book': 'invalid',\n",
       " 'clock': 'invalid',\n",
       " 'vase': 'invalid',\n",
       " 'scissors': 'invalid',\n",
       " 'teddy bear': 'invalid',\n",
       " 'hair dryer': 'invalid',\n",
       " 'toothbrush': 'invalid'}"
      ]
     },
     "execution_count": 34,
     "metadata": {},
     "output_type": "execute_result"
    }
   ],
   "source": [
    "obj_detect.CustomObjects(remote=True)\n"
   ]
  },
  {
   "cell_type": "code",
   "execution_count": 35,
   "metadata": {},
   "outputs": [],
   "source": [
    "detected_obj = obj_detect.detectObjectsFromImage(\n",
    "    input_image=\"data/myImageData/img9.jpg\",\n",
    "    output_image_path=\"test_image_output.jpg\",\n",
    "    minimum_percentage_probability=20\n",
    ")"
   ]
  },
  {
   "cell_type": "code",
   "execution_count": 36,
   "metadata": {},
   "outputs": [
    {
     "name": "stdout",
     "output_type": "stream",
     "text": [
      "Remote Control Detected !\n",
      "\n",
      "62.735581398010254\n",
      "[265, 493, 478, 952]\n"
     ]
    }
   ],
   "source": [
    "for obj in detected_obj:\n",
    "    if obj[\"name\"] == \"remote\":\n",
    "        showMessage(\"Kumanda Tespit Edildi !\")\n",
    "        print(\"Remote Control Detected !\\n\")\n",
    "        print(obj[\"percentage_probability\"])\n",
    "        print(obj[\"box_points\"])\n",
    "\n",
    "    else:\n",
    "        print(\"Ne Yazık ki Kumanda Bulunamadi !\")"
   ]
  },
  {
   "cell_type": "code",
   "execution_count": 37,
   "metadata": {},
   "outputs": [
    {
     "ename": "",
     "evalue": "",
     "output_type": "error",
     "traceback": [
      "\u001b[1;31mGeçerli hücrede veya önceki bir hücrede kod yürütülürken Çekirdek kilitlendi. Hatanın olası nedenini belirlemek için lütfen hücrelerdeki kodu gözden geçirin. Daha fazla bilgi için <a href='https://aka.ms/vscodeJupyterKernelCrash'>buraya</a> tıklayın. Daha fazla ayrıntı için Jupyter <a href='command:jupyter.viewOutput'>günlüğünü</a> görüntüleyin."
     ]
    }
   ],
   "source": [
    "im = PIL.Image.open(\"test_image_output.jpg\")\n",
    "im.show()"
   ]
  },
  {
   "cell_type": "code",
   "execution_count": null,
   "metadata": {},
   "outputs": [],
   "source": []
  }
 ],
 "metadata": {
  "kernelspec": {
   "display_name": "Python 3.7.6 ('image_env')",
   "language": "python",
   "name": "python3"
  },
  "language_info": {
   "codemirror_mode": {
    "name": "ipython",
    "version": 3
   },
   "file_extension": ".py",
   "mimetype": "text/x-python",
   "name": "python",
   "nbconvert_exporter": "python",
   "pygments_lexer": "ipython3",
   "version": "3.7.6"
  },
  "orig_nbformat": 4,
  "vscode": {
   "interpreter": {
    "hash": "1f078ac30edd9b9437feaa211f9834b2d1c2d01bc28cb629d19b64397dc85249"
   }
  }
 },
 "nbformat": 4,
 "nbformat_minor": 2
}
